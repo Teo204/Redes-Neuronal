{
  "nbformat": 4,
  "nbformat_minor": 0,
  "metadata": {
    "colab": {
      "provenance": [],
      "authorship_tag": "ABX9TyNz3Y4CsYUI1hVrYUz2WwyK",
      "include_colab_link": true
    },
    "kernelspec": {
      "name": "python3",
      "display_name": "Python 3"
    },
    "language_info": {
      "name": "python"
    }
  },
  "cells": [
    {
      "cell_type": "markdown",
      "metadata": {
        "id": "view-in-github",
        "colab_type": "text"
      },
      "source": [
        "<a href=\"https://colab.research.google.com/github/Teo204/Redes-Neuronal/blob/main/Mateo_Mu%C3%B1oz.ipynb\" target=\"_parent\"><img src=\"https://colab.research.google.com/assets/colab-badge.svg\" alt=\"Open In Colab\"/></a>"
      ]
    },
    {
      "cell_type": "markdown",
      "source": [
        "\n",
        "\n",
        "> Agregar bloque entrecomillado\n",
        "#Ejercicio 1 Taylor sin 0"
      ],
      "metadata": {
        "id": "qZxrKAxrYCdq"
      }
    },
    {
      "cell_type": "code",
      "execution_count": null,
      "metadata": {
        "colab": {
          "base_uri": "https://localhost:8080/"
        },
        "id": "GH0VP997XAJN",
        "outputId": "ed377d6d-d3d7-468c-8ac9-beb18a1bafbf"
      },
      "outputs": [
        {
          "output_type": "stream",
          "name": "stdout",
          "text": [
            "Verificación de la serie de Taylor para sin(0.5): \n",
            "Valor real de sin(0.5) = 0.479426\n",
            "Término 1: 0.500000\n",
            "Término 3: -0.020833\n",
            "Término 5: 0.000260\n",
            "Aproximación (suma): 0.479427\n",
            "Error absoluto: 0.000002\n"
          ]
        }
      ],
      "source": [
        "import numpy as np\n",
        "# Valor de x\n",
        "x = 0.5 # Radianes (~28.6°)\n",
        "\n",
        "# Valor real de sin(x)\n",
        "sin_real = np.sin(x)\n",
        "\n",
        "# Términos de la serie Taylor para sin(x) alrededor de\n",
        "# sin(x) = x - x^3/3! + x^5/5! . . .\n",
        "term_1 = x # Primer término : x\n",
        "term_3 = - (x**3) / 6 # Tercer término : -x^3/3! (3! = 6)\n",
        "term_5 = (x**5) / 120 # Quinto término : x^5/5! (5! = 120)\n",
        "\n",
        "# Suma de los términos\n",
        "taylor_approx = term_1 + term_3 + term_5\n",
        "\n",
        "# Resultados\n",
        "print(f\"Verificación de la serie de Taylor para sin({x}): \")\n",
        "print(f\"Valor real de sin({x}) = {sin_real:.6f}\")\n",
        "print(f\"Término 1: {term_1:.6f}\")\n",
        "print(f\"Término 3: {term_3:.6f}\")\n",
        "print(f\"Término 5: {term_5:.6f}\")\n",
        "print(f\"Aproximación (suma): {taylor_approx:.6f}\")\n",
        "print(f\"Error absoluto: {abs(sin_real - taylor_approx):.6f}\")"
      ]
    }
  ]
}